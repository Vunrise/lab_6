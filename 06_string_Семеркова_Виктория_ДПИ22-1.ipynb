{
 "cells": [
  {
   "attachments": {},
   "cell_type": "markdown",
   "metadata": {},
   "source": [
    "# Работа со строковыми значениями"
   ]
  },
  {
   "attachments": {},
   "cell_type": "markdown",
   "metadata": {},
   "source": [
    "__Автор задач: Блохин Н.В. (NVBlokhin@fa.ru)__\n",
    "\n",
    "Материалы:\n",
    "* Макрушин С.В. Лекция \"Работа со строковыми значениям\"\n",
    "* https://pyformat.info/\n",
    "* https://docs.python.org/3/library/re.html\n",
    "    * https://docs.python.org/3/library/re.html#flags\n",
    "    * https://docs.python.org/3/library/re.html#functions\n",
    "* https://pythonru.com/primery/primery-primeneniya-regulyarnyh-vyrazheniy-v-python\n",
    "* https://kanoki.org/2019/11/12/how-to-use-regex-in-pandas/\n",
    "* https://realpython.com/nltk-nlp-python/"
   ]
  },
  {
   "attachments": {},
   "cell_type": "markdown",
   "metadata": {},
   "source": [
    "## Лабораторная работа 6"
   ]
  },
  {
   "attachments": {},
   "cell_type": "markdown",
   "metadata": {},
   "source": [
    "### Форматирование строк"
   ]
  },
  {
   "attachments": {},
   "cell_type": "markdown",
   "metadata": {},
   "source": [
    "1\\. Загрузите данные из файла `recipes_sample.csv` (__ЛР2__) в виде `pd.DataFrame` `recipes` При помощи форматирования строк выведите информацию об id рецепта и времени выполнения 5 случайных рецептов в виде таблицы следующего вида:\n",
    "\n",
    "    \n",
    "    |      id      |  minutes  |\n",
    "    |--------------------------|\n",
    "    |    61178     |    65     |\n",
    "    |    202352    |    80     |\n",
    "    |    364322    |    150    |\n",
    "    |    26177     |    20     |\n",
    "    |    224785    |    35     |\n",
    "    \n",
    "Обратите внимание, что ширина столбцов заранее неизвестна и должна рассчитываться динамически, в зависимости от тех данных, которые были выбраны. "
   ]
  },
  {
   "cell_type": "code",
   "execution_count": 69,
   "metadata": {},
   "outputs": [
    {
     "name": "stdout",
     "output_type": "stream",
     "text": [
      "|          id |  minutes|\n",
      "----------------------------\n",
      "|      436951 |       30|\n",
      "|      485080 |       35|\n",
      "|      292823 |       30|\n",
      "|      424216 |       25|\n",
      "|       33927 |       28|\n",
      "\n"
     ]
    }
   ],
   "source": [
    "import pandas as pd\n",
    "\n",
    "recipes = pd.read_csv('data/recipes_sample.csv')\n",
    "\n",
    "random_recipes = recipes.sample(5)\n",
    "\n",
    "output = '|{:>12s} |{:>9s}|\\n'.format('id', 'minutes')\n",
    "output += '-' * 28 + '\\n'\n",
    "for _, row in random_recipes.iterrows():\n",
    "    output += '|{:>12d} |{:>9d}|\\n'.format(row['id'], row['minutes'])\n",
    "\n",
    "print(output)\n"
   ]
  },
  {
   "attachments": {},
   "cell_type": "markdown",
   "metadata": {},
   "source": [
    "2\\. Напишите функцию `show_info`, которая по данным о рецепте создает строку (в смысле объекта python) с описанием следующего вида:\n",
    "\n",
    "```\n",
    "\"Название Из Нескольких Слов\"\n",
    "\n",
    "1. Шаг 1\n",
    "2. Шаг 2\n",
    "----------\n",
    "Автор: contributor_id\n",
    "Среднее время приготовления: minutes минут\n",
    "```\n",
    "\n",
    "    \n",
    "Данные для создания строки получите из файлов `recipes_sample.csv` (__ЛР2__) и `steps_sample.xml` (__ЛР3__). \n",
    "Вызовите данную функцию для рецепта с id `170895` и выведите (через `print`) полученную строку на экран."
   ]
  },
  {
   "cell_type": "code",
   "execution_count": 70,
   "metadata": {},
   "outputs": [
    {
     "name": "stdout",
     "output_type": "stream",
     "text": [
      "\"leeks and parsnips  sauteed or creamed\"\n",
      "\n",
      "----------\n",
      "Автор: 8377\n",
      "Среднее время приготовления: 27 минут\n",
      "\n"
     ]
    }
   ],
   "source": [
    "import xml.etree.ElementTree as ET\n",
    "\n",
    "def show_info(recipe_id):\n",
    "    recipe_data = recipes.loc[recipes['id'] == recipe_id].squeeze()\n",
    "\n",
    "    tree = ET.parse('data/steps_sample.xml')\n",
    "    root = tree.getroot()\n",
    "\n",
    "    steps = []\n",
    "    for step in root.findall('step'):\n",
    "        if int(step.attrib['id']) == recipe_id:\n",
    "            steps.append(step.text)\n",
    "\n",
    "    info_string = '\"{}\"\\n\\n'.format(recipe_data['name'])\n",
    "\n",
    "    for i, step in enumerate(steps):\n",
    "        info_string += '{}. {}\\n'.format(i+1, step)\n",
    "    info_string += '-' * 10 + '\\n'\n",
    "    info_string += 'Автор: {}\\n'.format(recipe_data['contributor_id'])\n",
    "    info_string += 'Среднее время приготовления: {} минут\\n'.format(recipe_data['minutes'])\n",
    "\n",
    "    return info_string\n",
    "\n",
    "recipe_id = 170895\n",
    "recipe_info = show_info(recipe_id)\n",
    "print(recipe_info)\n"
   ]
  },
  {
   "attachments": {},
   "cell_type": "markdown",
   "metadata": {},
   "source": [
    "## Работа с регулярными выражениями"
   ]
  },
  {
   "attachments": {},
   "cell_type": "markdown",
   "metadata": {},
   "source": [
    "3\\. Напишите регулярное выражение, которое ищет следующий паттерн в строке: число (1 цифра или более), затем пробел, затем слова: hour или hours или minute или minutes. Произведите поиск по данному регулярному выражению в каждом шаге рецепта с id 25082. Выведите на экран все непустые результаты, найденные по данному шаблону."
   ]
  },
  {
   "cell_type": "code",
   "execution_count": 71,
   "metadata": {},
   "outputs": [],
   "source": [
    "def find_duration_steps():\n",
    "    pattern = re.compile(r'\\d+\\s(?:hours|hour|minutes|minute)')\n",
    "    tree = ET.parse('data/steps_sample.xml')\n",
    "    root = tree.getroot()\n",
    "    steps = root[25082]\n",
    "\n",
    "    for step in steps:\n",
    "        matches = pattern.findall(step)\n",
    "        if matches:\n",
    "            print(matches)"
   ]
  },
  {
   "attachments": {},
   "cell_type": "markdown",
   "metadata": {},
   "source": [
    "4\\. Напишите регулярное выражение, которое ищет шаблон вида \"this..., but\" _в начале строки_ . Между словом \"this\" и частью \", but\" может находиться произвольное число букв, цифр, знаков подчеркивания и пробелов. Никаких других символов вместо многоточия быть не может. Пробел между запятой и словом \"but\" может присутствовать или отсутствовать.\n",
    "\n",
    "Используя строковые методы `pd.Series`, выясните, для каких рецептов данный шаблон содержится в тексте описания. Выведите на экран количество таких рецептов и 3 примера подходящих описаний (текст описания должен быть виден на экране полностью)."
   ]
  },
  {
   "cell_type": "code",
   "execution_count": 72,
   "metadata": {},
   "outputs": [
    {
     "name": "stdout",
     "output_type": "stream",
     "text": [
      "Количество рецептов: 134\n",
      "Примеры:\n",
      "this is a great meal eaten the same day ,but even better the next day , if you can wait! add your favourite spices, but try it first as it is and i think that you will enjoy the 'vegetable' taste. good for freezing.\n",
      "this was adapted from a recipe i found on the net, but i added julienne onion to the peppers.  this is a meal in itself, or you could have a small slice with a meat dish.  for those that like to have brunch, it's a bit different to your traditional quiche recipes.  if you love cheese, you could add 1/2 cup of your favorite to the egg mixture, then pour over peppers.\n",
      "this is kind of similar to some of the other versions out there, but it is the best and easiest i have found\n"
     ]
    }
   ],
   "source": [
    "def finder():\n",
    "    pd.set_option(\"display.max_colwidth\", None)\n",
    "\n",
    "    pattern = r\"^this[\\w\\s]*,\\s?but\"\n",
    "    filtered_recipes  = recipes[\"description\"].str.contains(pattern, case=False, na=False)\n",
    "    print(f\"Количество рецептов: {filtered_recipes .sum()}\")\n",
    "    print(\"Примеры:\")\n",
    "    print(\"\\n\".join(recipes[filtered_recipes ][\"description\"].head(3).str.strip().to_list()))\n",
    "finder()"
   ]
  },
  {
   "attachments": {},
   "cell_type": "markdown",
   "metadata": {},
   "source": [
    "5\\. В текстах шагов рецептов обыкновенные дроби имеют вид \"a / b\". Используя регулярные выражения, уберите в тексте шагов рецепта с id 72367 пробелы до и после символа дроби. Выведите на экран шаги этого рецепта после их изменения."
   ]
  },
  {
   "cell_type": "code",
   "execution_count": 73,
   "metadata": {},
   "outputs": [
    {
     "name": "stdout",
     "output_type": "stream",
     "text": [
      "mix butter , flour , 1/3 c\n",
      "sugar and 1-1/4 t\n",
      "vanilla\n",
      "press into greased 9\" springform pan\n",
      "mix cream cheese , 1/4 c\n",
      "sugar , eggs and 1/2 t\n",
      "vanilla beating until fluffy\n",
      "pour over dough\n",
      "combine apples , 1/3 c\n",
      "sugar and cinnamon\n",
      "arrange on top of cream cheese mixture and sprinkle with almonds\n",
      "bake at 350 for 45-55 minutes , or until tester comes out clean\n"
     ]
    }
   ],
   "source": [
    "tree = ET.parse('data/steps_sample.xml')\n",
    "root = tree.getroot()\n",
    "\n",
    "steps_dict = {}\n",
    "for recipe in root.findall('recipe'):\n",
    "    recipe_id = int(recipe.find('id').text)\n",
    "    steps = [step.text for step in recipe.find('steps').findall('step')]\n",
    "    steps_dict[recipe_id] = steps\n",
    "\n",
    "\n",
    "recipe_steps = parse_steps_xml('data/steps_sample.xml')[72367]\n",
    "pattern = re.compile(r'\\s*/\\s*')\n",
    "\n",
    "for step in recipe_steps:\n",
    "    modified_step = pattern.sub('/', step)\n",
    "    print(modified_step)\n"
   ]
  },
  {
   "attachments": {},
   "cell_type": "markdown",
   "metadata": {},
   "source": [
    "### Сегментация текста"
   ]
  },
  {
   "attachments": {},
   "cell_type": "markdown",
   "metadata": {},
   "source": [
    "6\\. Разбейте тексты шагов рецептов на слова при помощи пакета `nltk`. Посчитайте и выведите на экран кол-во уникальных слов среди всех рецептов. Словом называется любая последовательность алфавитных символов (для проверки можно воспользоваться `str.isalpha`). При подсчете количества уникальных слов не учитывайте регистр."
   ]
  },
  {
   "cell_type": "code",
   "execution_count": 74,
   "metadata": {},
   "outputs": [
    {
     "name": "stderr",
     "output_type": "stream",
     "text": [
      "[nltk_data] Downloading package punkt to\n",
      "[nltk_data]     C:\\Users\\silak\\AppData\\Roaming\\nltk_data...\n",
      "[nltk_data]   Package punkt is already up-to-date!\n"
     ]
    },
    {
     "data": {
      "text/plain": [
       "True"
      ]
     },
     "execution_count": 74,
     "metadata": {},
     "output_type": "execute_result"
    }
   ],
   "source": [
    "import nltk\n",
    "\n",
    "nltk.download('punkt')\n"
   ]
  },
  {
   "cell_type": "code",
   "execution_count": 75,
   "metadata": {},
   "outputs": [
    {
     "name": "stdout",
     "output_type": "stream",
     "text": [
      "Количество уникальных слов: 14926\n"
     ]
    }
   ],
   "source": [
    "tree = ET.parse('data/steps_sample.xml')\n",
    "steps = tree.getroot()\n",
    "\n",
    "recipe_steps = [step.text for step in steps.iter('step')]\n",
    "\n",
    "text = ' '.join(recipe_steps)\n",
    "\n",
    "words = nltk.word_tokenize(text)\n",
    "\n",
    "words = [word.lower() for word in words if word.isalpha()]\n",
    "\n",
    "unique_words = set(words)\n",
    "word_count = len(unique_words)\n",
    "\n",
    "print(\"Количество уникальных слов:\", word_count)\n"
   ]
  },
  {
   "attachments": {},
   "cell_type": "markdown",
   "metadata": {},
   "source": [
    "7\\. Разбейте описания рецептов из `recipes` на предложения при помощи пакета `nltk`. Найдите 5 самых длинных описаний (по количеству _предложений_) рецептов в датасете и выведите строки фрейма, соответствующие этим рецептами, в порядке убывания длины."
   ]
  },
  {
   "cell_type": "code",
   "execution_count": 76,
   "metadata": {},
   "outputs": [
    {
     "data": {
      "text/html": [
       "<div>\n",
       "<style scoped>\n",
       "    .dataframe tbody tr th:only-of-type {\n",
       "        vertical-align: middle;\n",
       "    }\n",
       "\n",
       "    .dataframe tbody tr th {\n",
       "        vertical-align: top;\n",
       "    }\n",
       "\n",
       "    .dataframe thead th {\n",
       "        text-align: right;\n",
       "    }\n",
       "</style>\n",
       "<table border=\"1\" class=\"dataframe\">\n",
       "  <thead>\n",
       "    <tr style=\"text-align: right;\">\n",
       "      <th></th>\n",
       "      <th>description</th>\n",
       "      <th>sentence_count</th>\n",
       "    </tr>\n",
       "  </thead>\n",
       "  <tbody>\n",
       "    <tr>\n",
       "      <th>971</th>\n",
       "      <td>microwave ? ! ? ! i can see some eyes rolling !</td>\n",
       "      <td>5</td>\n",
       "    </tr>\n",
       "    <tr>\n",
       "      <th>139063</th>\n",
       "      <td>very easy and the final product is awesome ! no tomatoes ? wow ! hope you enjoy as much as we do !</td>\n",
       "      <td>4</td>\n",
       "    </tr>\n",
       "    <tr>\n",
       "      <th>276745</th>\n",
       "      <td>the day of bbq: ahh , the wait is over ! fill the smoker with coals ! and i mean fill it ! the wet wood chips will make your flame die down a bit</td>\n",
       "      <td>4</td>\n",
       "    </tr>\n",
       "    <tr>\n",
       "      <th>104036</th>\n",
       "      <td>if using flour tortillas , warm and make fajitas ! if using corn , briefly fry in hot oil and make tacos ! heck , roll into a tortilla &amp; make enchiladas ! go for it !</td>\n",
       "      <td>4</td>\n",
       "    </tr>\n",
       "    <tr>\n",
       "      <th>211594</th>\n",
       "      <td>serve with the vanilla sauce and enjoy ! they're also tasty with chocolate sauce , fruit sauces , caramel , and tons of other dips and toppings ! how about my pumpkin fluff dip if you're not afraid of pumpkin overload ? :d</td>\n",
       "      <td>4</td>\n",
       "    </tr>\n",
       "  </tbody>\n",
       "</table>\n",
       "</div>"
      ],
      "text/plain": [
       "                                                                                                                                                                                                                           description  \\\n",
       "971                                                                                                                                                                                    microwave ? ! ? ! i can see some eyes rolling !   \n",
       "139063                                                                                                                              very easy and the final product is awesome ! no tomatoes ? wow ! hope you enjoy as much as we do !   \n",
       "276745                                                                               the day of bbq: ahh , the wait is over ! fill the smoker with coals ! and i mean fill it ! the wet wood chips will make your flame die down a bit   \n",
       "104036                                                          if using flour tortillas , warm and make fajitas ! if using corn , briefly fry in hot oil and make tacos ! heck , roll into a tortilla & make enchiladas ! go for it !   \n",
       "211594  serve with the vanilla sauce and enjoy ! they're also tasty with chocolate sauce , fruit sauces , caramel , and tons of other dips and toppings ! how about my pumpkin fluff dip if you're not afraid of pumpkin overload ? :d   \n",
       "\n",
       "        sentence_count  \n",
       "971                  5  \n",
       "139063               4  \n",
       "276745               4  \n",
       "104036               4  \n",
       "211594               4  "
      ]
     },
     "execution_count": 76,
     "metadata": {},
     "output_type": "execute_result"
    }
   ],
   "source": [
    "recipe_steps = [step.text for step in steps.iter('step')]\n",
    "\n",
    "recipes = pd.DataFrame({'description': recipe_steps})\n",
    "\n",
    "def count_sentences(row):\n",
    "    sentences = nltk.sent_tokenize(row['description'])\n",
    "    return len(sentences)\n",
    "\n",
    "recipes['sentence_count'] = recipes.apply(count_sentences, axis=1)\n",
    "\n",
    "sorted_recipes = recipes.sort_values('sentence_count', ascending=False)\n",
    "\n",
    "top_5_longest = sorted_recipes.head(5)\n",
    "top_5_longest\n"
   ]
  },
  {
   "attachments": {},
   "cell_type": "markdown",
   "metadata": {},
   "source": [
    "8\\. Напишите функцию, которая для заданного предложения выводит информацию о частях речи слов, входящих в предложение, в следующем виде:\n",
    "```\n",
    "PRP   VBD   DT      NNS     CC   VBD      NNS        RB   \n",
    " I  omitted the raspberries and added strawberries instead\n",
    "``` \n",
    "Для определения части речи слова можно воспользоваться `nltk.pos_tag`.\n",
    "\n",
    "Проверьте работоспособность функции на названии рецепта с id 241106.\n",
    "\n",
    "Обратите внимание, что часть речи должна находиться ровно посередине над соотвествующим словом, а между самими словами должен быть ровно один пробел.\n"
   ]
  },
  {
   "cell_type": "code",
   "execution_count": 77,
   "metadata": {},
   "outputs": [
    {
     "name": "stderr",
     "output_type": "stream",
     "text": [
      "[nltk_data] Downloading package averaged_perceptron_tagger to\n",
      "[nltk_data]     C:\\Users\\silak\\AppData\\Roaming\\nltk_data...\n",
      "[nltk_data]   Package averaged_perceptron_tagger is already up-to-\n",
      "[nltk_data]       date!\n"
     ]
    },
    {
     "data": {
      "text/plain": [
       "True"
      ]
     },
     "execution_count": 77,
     "metadata": {},
     "output_type": "execute_result"
    }
   ],
   "source": [
    "import nltk\n",
    "\n",
    "nltk.download('averaged_perceptron_tagger')\n"
   ]
  },
  {
   "cell_type": "code",
   "execution_count": 78,
   "metadata": {},
   "outputs": [
    {
     "name": "stdout",
     "output_type": "stream",
     "text": [
      "eggplant JJ steaks NNS with IN chickpeas NNS feta VBP cheese JJ and CC black JJ olives NNS\n"
     ]
    }
   ],
   "source": [
    "import pandas as pd\n",
    "import nltk\n",
    "\n",
    "def print_pos_tags(sentence):\n",
    "    words = nltk.word_tokenize(sentence)\n",
    "    \n",
    "    pos_tags = nltk.pos_tag(words)\n",
    "    \n",
    "    pos_info = ' '.join(f'{word:{len(tag)}} {tag:{len(tag)}}' for (word, tag) in pos_tags)\n",
    "    \n",
    "    print(pos_info)\n",
    "\n",
    "recipes = pd.read_csv('data/recipes_sample.csv')\n",
    "\n",
    "recipe_id = 241106\n",
    "recipe_name = recipes.loc[recipes['id'] == recipe_id, 'name'].values[0]\n",
    "\n",
    "print_pos_tags(recipe_name)\n"
   ]
  }
 ],
 "metadata": {
  "kernelspec": {
   "display_name": "Python 3 (ipykernel)",
   "language": "python",
   "name": "python3"
  },
  "language_info": {
   "codemirror_mode": {
    "name": "ipython",
    "version": 3
   },
   "file_extension": ".py",
   "mimetype": "text/x-python",
   "name": "python",
   "nbconvert_exporter": "python",
   "pygments_lexer": "ipython3",
   "version": "3.10.11"
  }
 },
 "nbformat": 4,
 "nbformat_minor": 4
}
